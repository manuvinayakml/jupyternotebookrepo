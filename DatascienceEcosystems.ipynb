{
 "cells": [
  {
   "cell_type": "markdown",
   "id": "2e74dc47-df91-40eb-9233-56290b15435d",
   "metadata": {},
   "source": [
    "# Data science tools and ecosystems "
   ]
  },
  {
   "cell_type": "markdown",
   "id": "d95fdfc4-3c81-4619-91c6-17baa6698d5c",
   "metadata": {},
   "source": [
    "In this notebook, data science tools and ecosystems are summarised"
   ]
  },
  {
   "cell_type": "markdown",
   "id": "fc540bfa-5567-4bfd-b83c-c7d2abcb70af",
   "metadata": {},
   "source": [
    "some of the popular languages that scientists use are:"
   ]
  },
  {
   "cell_type": "markdown",
   "id": "3e696948-0129-4de5-88f0-04dde5356ff7",
   "metadata": {},
   "source": [
    "1. Python\n",
    "2. R\n",
    "3. Julia"
   ]
  },
  {
   "cell_type": "markdown",
   "id": "83954b28-6208-4e3e-947f-e9497637430b",
   "metadata": {},
   "source": [
    "Some of the common libraries used by data scientists include:"
   ]
  },
  {
   "cell_type": "markdown",
   "id": "06f62797-e673-4157-949c-e9b83e8bfeb3",
   "metadata": {},
   "source": [
    "1. Numpy\n",
    "2. R\n",
    "3. Matplotlib"
   ]
  },
  {
   "cell_type": "markdown",
   "id": "880347c2-d2ab-4475-8e40-3e1c8822ed2f",
   "metadata": {},
   "source": [
    "| Data Science Tools |\n",
    "|--------------------|\n",
    "| jupyter notebook|\n",
    "| RStudio|\n",
    "|VScode|\n"
   ]
  },
  {
   "cell_type": "markdown",
   "id": "b24c2439-4def-495f-994c-dcb72b11ede2",
   "metadata": {},
   "source": [
    "### Below are the few examples of evaluating arithematic expresssions on python"
   ]
  },
  {
   "cell_type": "markdown",
   "id": "b375fb87-4079-4b1e-ac00-7106cfdc96c6",
   "metadata": {},
   "source": [
    "this a simple arithematic expression to multiply then add integers "
   ]
  },
  {
   "cell_type": "code",
   "execution_count": 1,
   "id": "0c912d5f-bae8-47b1-9ea4-707853c4f90c",
   "metadata": {},
   "outputs": [
    {
     "data": {
      "text/plain": [
       "17"
      ]
     },
     "execution_count": 1,
     "metadata": {},
     "output_type": "execute_result"
    }
   ],
   "source": [
    "(3*4)+5"
   ]
  },
  {
   "cell_type": "markdown",
   "id": "5f22a41d-71f3-43f8-8419-1a75ed594932",
   "metadata": {},
   "source": [
    "This will convert 200 minutes to hours by dividng by 60"
   ]
  },
  {
   "cell_type": "code",
   "execution_count": 7,
   "id": "d5611559-27d5-4b45-9852-1086c39f000c",
   "metadata": {},
   "outputs": [
    {
     "name": "stdout",
     "output_type": "stream",
     "text": [
      "200 minutes = 3 hour(s) and 20minutes(s)\n"
     ]
    }
   ],
   "source": [
    "def minutes_to_hours(minutes):\n",
    "    hours = minutes // 60\n",
    "    remaining = minutes % 60 \n",
    "    return \"{} minutes = {} hour(s) and {}minutes(s)\".format(minutes,hours,remaining)\n",
    "\n",
    "#convert 200 minutes\n",
    "minutes = 200\n",
    "print(minutes_to_hours(minutes))"
   ]
  },
  {
   "cell_type": "markdown",
   "id": "611991cb-4b1c-4b71-8d9b-0cb8071320c6",
   "metadata": {},
   "source": [
    "**Objectives**"
   ]
  },
  {
   "cell_type": "markdown",
   "id": "b4eec869-67e0-4af0-9b1a-162d7f9b1168",
   "metadata": {},
   "source": [
    "## List popular languages for data science"
   ]
  },
  {
   "cell_type": "markdown",
   "id": "6f614527-9bbf-417f-9af8-d8133f386220",
   "metadata": {},
   "source": [
    "- python\n",
    "- R\n",
    "- Julia\n"
   ]
  },
  {
   "cell_type": "code",
   "execution_count": null,
   "id": "d312eacb-4c27-43e8-8f97-dd42dfe450aa",
   "metadata": {},
   "outputs": [],
   "source": [
    "##"
   ]
  }
 ],
 "metadata": {
  "kernelspec": {
   "display_name": "Python 3 (ipykernel)",
   "language": "python",
   "name": "python3"
  },
  "language_info": {
   "codemirror_mode": {
    "name": "ipython",
    "version": 3
   },
   "file_extension": ".py",
   "mimetype": "text/x-python",
   "name": "python",
   "nbconvert_exporter": "python",
   "pygments_lexer": "ipython3",
   "version": "3.13.5"
  }
 },
 "nbformat": 4,
 "nbformat_minor": 5
}
